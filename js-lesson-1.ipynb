{
 "cells": [
  {
   "cell_type": "markdown",
   "id": "9e42af59-4831-4679-94ca-8eeeab6f42ae",
   "metadata": {},
   "source": [
    "# Practical JavaScript Examples for Beginners\n",
    "This guide provides a deeper, hands-on look at the core JavaScript concepts essential for React. Each example is self-contained and designed to be run in your browser's JavaScript console.\n",
    "\n",
    "## 1. Variables: let, const, and var\n",
    "Variables are containers for storing data. Understanding when to use const and let is key in modern JavaScript.\n",
    "\n",
    "### Step-by-Step Example:\n",
    "\n",
    "Declare a constant. const variables cannot be reassigned. Let's define a company name.\n"
   ]
  },
  {
   "cell_type": "code",
   "execution_count": null,
   "id": "7906b864-b7b3-45f9-800d-8d0c1d91c70b",
   "metadata": {},
   "outputs": [],
   "source": [
    "// Use const for a value that should not change.\n",
    "const companyName = \"Tech Solutions Inc.\";\n",
    "console.log(companyName);"
   ]
  },
  {
   "cell_type": "markdown",
   "id": "2c02eb7d-2f42-4997-bd4a-df201a477ae6",
   "metadata": {},
   "source": [
    "**Expected Output**: Tech Solutions Inc.\n",
    "\n",
    "Try to reassign the constant. This will demonstrate why it's \"constant.\""
   ]
  },
  {
   "cell_type": "code",
   "execution_count": null,
   "id": "3949576b-1f81-4779-8ffc-76c2ab81f7b9",
   "metadata": {},
   "outputs": [],
   "source": [
    "// This line will cause an error.\n",
    "companyName = \"Global Innovations Ltd.\"; \n"
   ]
  },
  {
   "cell_type": "markdown",
   "id": "a5f79a73-1390-4782-a6b3-e48be9dd3b53",
   "metadata": {},
   "source": [
    "**Expected Output**: Uncaught TypeError: Assignment to constant variable.\n",
    "\n",
    "**Lesson**: This error is good! It protects you from accidentally changing values that should remain fixed.\n",
    "\n",
    "Declare a variable with let. let variables are for values that you expect to change, like a user's score.\n"
   ]
  },
  {
   "cell_type": "code",
   "execution_count": null,
   "id": "13cdfd2a-20c6-43c0-8ab8-9d4d7f710e0d",
   "metadata": {},
   "outputs": [],
   "source": [
    "// Use let for a value that can be updated.\n",
    "let userScore = 150;\n",
    "console.log(\"Initial score:\", userScore);\n",
    "\n",
    "userScore = 175;\n",
    "console.log(\"Updated score:\", userScore);"
   ]
  },
  {
   "cell_type": "markdown",
   "id": "3e12038a-2296-4193-b833-edbafd8b7488",
   "metadata": {},
   "source": [
    "**Expected Output**:\n",
    "```\n",
    "Initial score: 150\n",
    "Updated score: 175\n",
    "```"
   ]
  },
  {
   "cell_type": "markdown",
   "id": "5523d2a0-54e5-45f3-9ef9-56a9614585c8",
   "metadata": {},
   "source": [
    "## 2. Objects and Destructuring\n",
    "Objects let you group related data and functions together. Destructuring is an elegant way to extract that data.\n",
    "\n",
    "### Step-by-Step Example:\n",
    "Create a user profile object. This object will contain various pieces of information about a single user."
   ]
  },
  {
   "cell_type": "code",
   "execution_count": null,
   "id": "3451d50a-f400-4b4c-a4ef-d7f0e6878a48",
   "metadata": {},
   "outputs": [],
   "source": [
    "const userProfile = {\n",
    "  userId: \"u_12345\",\n",
    "  username: \"alex_dev\",\n",
    "  joinDate: \"2023-10-26\",\n",
    "  isPremium: true,\n",
    "  preferences: {\n",
    "    theme: \"dark\",\n",
    "    notifications: true\n",
    "  }\n",
    "};\n",
    "console.log(userProfile);"
   ]
  },
  {
   "cell_type": "markdown",
   "id": "b15d465c-3aa8-4709-b873-c5c3a755d0d8",
   "metadata": {},
   "source": [
    "**Expected Output**: The console will show the expandable object."
   ]
  },
  {
   "cell_type": "markdown",
   "id": "2fecf2e8-8b6e-4b2f-8950-553076b9d2a2",
   "metadata": {},
   "source": [
    "Access data using dot notation. This is the traditional way.\n"
   ]
  },
  {
   "cell_type": "code",
   "execution_count": null,
   "id": "4e4b40ba-2acb-4420-959c-9f0f7b3c01c2",
   "metadata": {},
   "outputs": [],
   "source": [
    "console.log(\"Username:\", userProfile.username); // Access top-level property\n",
    "console.log(\"Theme preference:\", userProfile.preferences.theme); // Access nested property"
   ]
  },
  {
   "cell_type": "markdown",
   "id": "f267f9e7-25b3-4738-89a1-ba283224e20e",
   "metadata": {},
   "source": [
    "Expected Output:\n",
    "```\n",
    "Username: alex_dev\n",
    "Theme preference: dark\n",
    "```\n",
    "Extract data using destructuring. This is the modern, concise way, which is heavily used in React for accessing props.\n"
   ]
  },
  {
   "cell_type": "code",
   "execution_count": null,
   "id": "2a750f3e-073d-42dd-aecb-c073a25baa30",
   "metadata": {},
   "outputs": [],
   "source": [
    "// Destructure properties from the userProfile object into variables.\n",
    "const { username, isPremium } = userProfile;\n",
    "\n",
    "console.log(\"Username from destructuring:\", username);\n",
    "console.log(\"Is the user premium?\", isPremium);"
   ]
  },
  {
   "cell_type": "markdown",
   "id": "2177e032-8435-4cfb-9879-4a4471d435bd",
   "metadata": {},
   "source": [
    "**Expected Output**:\n",
    "```\n",
    "Username from destructuring: alex_dev\n",
    "Is the user premium? true\n",
    "```\n",
    "Destructure and rename variables. What if a variable name like username is already taken? You can rename it.\n"
   ]
  },
  {
   "cell_type": "code",
   "execution_count": null,
   "id": "eb19c6e3-a731-4a12-84d4-b9bf38237e3d",
   "metadata": {},
   "outputs": [],
   "source": [
    "// Destructure `userId` and rename it to `profileId`.\n",
    "const { userId: profileId } = userProfile;\n",
    "console.log(\"Profile ID:\", profileId);"
   ]
  },
  {
   "cell_type": "markdown",
   "id": "7b7ea95f-1527-4c7c-8231-b4087b0689e8",
   "metadata": {},
   "source": [
    "**Expected Output**: `Profile ID: u_12345`\n",
    "\n",
    "## 3. Arrays and Array Methods\n",
    "Arrays store lists of data. In React, you won't use traditional for loops to display lists. Instead, you'll use powerful built-in methods like .map(), .filter(), and .reduce().\n",
    "\n",
    "### Step-by-Step Example:\n",
    "Create an array of objects. Imagine this is a list of products from an online store."
   ]
  },
  {
   "cell_type": "code",
   "execution_count": null,
   "id": "035216b3-1a52-48e6-8b87-5908463724b1",
   "metadata": {},
   "outputs": [],
   "source": [
    "const products = [\n",
    "  { id: 1, name: \"Wireless Mouse\", price: 25.99, category: \"Electronics\" },\n",
    "  { id: 2, name: \"Ergonomic Keyboard\", price: 79.95, category: \"Electronics\" },\n",
    "  { id: 3, name: \"Coffee Mug\", price: 12.50, category: \"Kitchen\" },\n",
    "  { id: 4, name: \"Desk Lamp\", price: 45.00, category: \"Home Goods\" }\n",
    "];\n"
   ]
  },
  {
   "cell_type": "markdown",
   "id": "091df637-9dfb-46b0-93dd-6fc2c7ac05a3",
   "metadata": {},
   "source": [
    "Use `.map()` to transform data. Let's create a new array containing just the product names. This is the most common array method in React for turning data into UI elements.\n"
   ]
  },
  {
   "cell_type": "code",
   "execution_count": null,
   "id": "43170537-d26f-4d12-bf65-080449648469",
   "metadata": {},
   "outputs": [],
   "source": [
    "// .map() creates a new array from the results of calling a function on every item.\n",
    "const productNames = products.map(product => product.name);\n",
    "console.log(\"Product names:\", productNames);\n"
   ]
  },
  {
   "cell_type": "markdown",
   "id": "9708f7aa-ff0b-47af-9c43-f64c18c65abf",
   "metadata": {},
   "source": [
    "**Expected Output**: \n",
    "```\n",
    "Product names: [\"Wireless Mouse\", \"Ergonomic Keyboard\", \"Coffee Mug\", \"Desk Lamp\"]\n",
    "```"
   ]
  },
  {
   "cell_type": "markdown",
   "id": "1b6e7710-80e4-4524-ba67-62877d2bdae5",
   "metadata": {},
   "source": [
    "Use `.filter()` to find a subset of data. Let's find all products in the \"Electronics\" category.\n"
   ]
  },
  {
   "cell_type": "code",
   "execution_count": null,
   "id": "de7d01ce-926e-4502-b91b-388b72aadeee",
   "metadata": {},
   "outputs": [],
   "source": [
    "// .filter() creates a new array with all items that pass the test in the function.\n",
    "const electronics = products.filter(product => product.category === \"Electronics\");\n",
    "console.log(\"Electronics products:\", electronics);"
   ]
  },
  {
   "cell_type": "markdown",
   "id": "1a0bc3e9-4b24-40c9-869c-ace8a07fa76e",
   "metadata": {},
   "source": [
    "**Expected Output**: An array containing the \"Wireless Mouse\" and \"Ergonomic Keyboard\" objects."
   ]
  },
  {
   "cell_type": "markdown",
   "id": "73839832-e409-411a-923f-fc7decd150cf",
   "metadata": {},
   "source": [
    "Use `.reduce()` to calculate a single value. Let's calculate the total cost of all products.\n"
   ]
  },
  {
   "cell_type": "code",
   "execution_count": null,
   "id": "7a8e0103-795a-4392-b8a9-edce0a8bb4d6",
   "metadata": {},
   "outputs": [],
   "source": [
    "// .reduce() \"reduces\" an array to a single value.\n",
    "// `accumulator` is the value we're building up (starts at 0).\n",
    "// `currentProduct` is the item we're currently on.\n",
    "const totalCost = products.reduce((accumulator, currentProduct) => {\n",
    "  return accumulator + currentProduct.price;\n",
    "}, 0); // The `0` is the initial value for the accumulator.\n",
    "\n",
    "console.log(\"Total cost:\", totalCost.toFixed(2)); // .toFixed(2) formats it nicely as a price"
   ]
  },
  {
   "cell_type": "markdown",
   "id": "88bf1483-bd9c-4361-85d2-3962cf1b62f3",
   "metadata": {},
   "source": [
    "**Expected Output**: \n",
    "```\n",
    "Total cost: 163.44\n",
    "```"
   ]
  },
  {
   "cell_type": "markdown",
   "id": "f091f440-5f0e-47d7-8038-81755196ea18",
   "metadata": {},
   "source": [
    "## 4. Template Literals\n",
    "Template literals (using backticks `) are a modern way to create strings, making it much easier to embed variables and create multi-line text.\n",
    "\n",
    "### Step-by-Step Example:\n",
    "Define some variables."
   ]
  },
  {
   "cell_type": "code",
   "execution_count": null,
   "id": "1a6a7909-dc9d-49ab-9945-afcb0e001de3",
   "metadata": {},
   "outputs": [],
   "source": [
    "const customerName = \"Jordan\";\n",
    "const orderCount = 5;\n",
    "const totalSpent = 257.50;"
   ]
  },
  {
   "cell_type": "markdown",
   "id": "ec19e580-2555-4ea4-a292-cb2bbf1f13a9",
   "metadata": {},
   "source": [
    "Create a summary message using template literals."
   ]
  },
  {
   "cell_type": "code",
   "execution_count": null,
   "id": "ff734b9a-978e-440f-826a-3ac4dde64e51",
   "metadata": {},
   "outputs": [],
   "source": [
    "// Use `${...}` to embed variables directly into the string.\n",
    "const summaryMessage = `\n",
    "  Customer Profile:\n",
    "    Name: ${customerName}\n",
    "    Orders: ${orderCount}\n",
    "    Total Spent: $${totalSpent.toFixed(2)}\n",
    "`;\n",
    "\n",
    "console.log(summaryMessage);"
   ]
  },
  {
   "cell_type": "markdown",
   "id": "a94fd289-f3b6-47c3-9437-4ab07259d38f",
   "metadata": {},
   "source": [
    "**Expected Output**: The console will print a formatted, multi-line string.\n",
    "```\n",
    "Customer Profile:\n",
    "  Name: Jordan\n",
    "  Orders: 5\n",
    "  Total Spent: $257.50\n",
    "```\n",
    "Notice how the line breaks and spacing inside the backticks are preserved in the output. This is impossible to do so cleanly with regular strings.\n"
   ]
  },
  {
   "cell_type": "markdown",
   "id": "681f8df8-2b1b-46b5-8b7c-0d1ed3ff8ee4",
   "metadata": {},
   "source": [
    "\n",
    "## 5. Conditional (Ternary) Operator\n",
    "The ternary operator is a shortcut for an `if...else` statement. It's widely used in React's JSX syntax to show one thing or another based on a condition.\n",
    "\n",
    "### Step-by-Step Example:\n",
    "Define a constant."
   ]
  },
  {
   "cell_type": "code",
   "execution_count": null,
   "id": "1311fdc5-5ab8-4ce6-8c36-20e2a8b0b6f4",
   "metadata": {},
   "outputs": [],
   "source": [
    "const itemsInCart = 3;"
   ]
  },
  {
   "cell_type": "markdown",
   "id": "de05de2c-58b5-48c4-b0a6-f1edfaca7d12",
   "metadata": {},
   "source": [
    "Write a standard `if...else` statement."
   ]
  },
  {
   "cell_type": "code",
   "execution_count": null,
   "id": "2454c058-da74-4344-802a-99fd666a2bcd",
   "metadata": {},
   "outputs": [],
   "source": [
    "let message;\n",
    "if (itemsInCart > 0) {\n",
    "  message = `You have ${itemsInCart} items in your cart.`;\n",
    "} else {\n",
    "  message = \"Your cart is empty.\";\n",
    "}\n",
    "console.log(\"From if/else:\", message);"
   ]
  },
  {
   "cell_type": "markdown",
   "id": "33365682-6d71-48b9-be7a-c99a735f9960",
   "metadata": {},
   "source": [
    "**Expected Output**: \n",
    "```\n",
    "From if/else: You have 3 items in your cart.\n",
    "```"
   ]
  },
  {
   "cell_type": "markdown",
   "id": "2527b720-3a86-4446-a80e-16d8851b552a",
   "metadata": {},
   "source": [
    "Rewrite it using a ternary operator."
   ]
  },
  {
   "cell_type": "code",
   "execution_count": null,
   "id": "a8a8bf5d-e530-4fb4-b431-7bbf1ebbd1e0",
   "metadata": {},
   "outputs": [],
   "source": [
    "// Syntax: condition ? value_if_true : value_if_false\n",
    "const ternaryMessage = itemsInCart > 0 \n",
    "  ? `You have ${itemsInCart} items in your cart.` \n",
    "  : \"Your cart is empty.\";\n",
    "\n",
    "console.log(\"From ternary:\", ternaryMessage);"
   ]
  },
  {
   "cell_type": "markdown",
   "id": "4b72de5b-3c3c-4a35-9bbf-814e98561890",
   "metadata": {},
   "source": [
    "**Expected Output**: \n",
    "```\n",
    "From ternary: You have 3 items in your cart.\n",
    "```"
   ]
  },
  {
   "cell_type": "markdown",
   "id": "57c983ce-d252-4f1b-b762-7df857febd8e",
   "metadata": {},
   "source": [
    "The ternary operator lets you achieve the same result in a single, clean line of code, which is perfect for embedding logic directly into your UI code."
   ]
  }
 ],
 "metadata": {
  "kernelspec": {
   "display_name": "Deno",
   "language": "typescript",
   "name": "deno"
  },
  "language_info": {
   "codemirror_mode": "typescript",
   "file_extension": ".ts",
   "mimetype": "text/x.typescript",
   "name": "typescript",
   "nbconvert_exporter": "script",
   "pygments_lexer": "typescript",
   "version": "5.8.3"
  }
 },
 "nbformat": 4,
 "nbformat_minor": 5
}
